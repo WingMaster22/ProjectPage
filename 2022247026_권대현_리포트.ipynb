{
 "cells": [
  {
   "cell_type": "code",
   "execution_count": null,
   "metadata": {},
   "outputs": [],
   "source": [
    "import pandas as pd\n",
    "from sklearn.impute import SimpleImputer\n",
    "import numpy as np\n",
    "from sklearn.ensemble import RandomForestRegressor, VotingRegressor\n",
    "from sklearn.linear_model import LinearRegression\n",
    "from sklearn.neighbors import KNeighborsRegressor\n",
    "from sklearn.preprocessing import StandardScaler\n",
    "from sklearn.model_selection import cross_val_score\n",
    "from sklearn.model_selection import train_test_split, GridSearchCV\n",
    "from sklearn.metrics import mean_squared_error, r2_score\n",
    "from sklearn.model_selection import cross_val_predict\n",
    "from math import sqrt\n",
    "import matplotlib.pyplot as plt\n",
    "\n",
    "df = pd.read_csv(\"C:\\\\Users\\\\NMPL-SKKWON\\\\Desktop\\\\국민건강보험공단_건강검진정보_20221231.CSV\", encoding='cp949')\n",
    "print(df.head())\n"
   ]
  },
  {
   "cell_type": "code",
   "execution_count": null,
   "metadata": {},
   "outputs": [],
   "source": [
    "df = df.drop(columns=['총콜레스테롤', '트리글리세라이드', 'HDL콜레스테롤', 'LDL콜레스테롤', '치아우식증유무', '치석', '구강검진수검여부', '시력(좌)', '시력(우)', '청력(좌)', '청력(우)', '시도코드', '기준년도'])"
   ]
  },
  {
   "cell_type": "code",
   "execution_count": null,
   "metadata": {},
   "outputs": [],
   "source": [
    "# 수축기혈압과 이완기혈압 열에 NaN 값이 존재하는 행 제거\n",
    "df_filtered = df.dropna(subset=['수축기혈압', '이완기혈압'])\n",
    "print(\"\\n수축기혈압 또는 이완기혈압에 NaN 값이 있는 행 제거 후 DataFrame:\")\n",
    "print(df_filtered)\n"
   ]
  },
  {
   "cell_type": "code",
   "execution_count": null,
   "metadata": {},
   "outputs": [],
   "source": [
    "# 전체 행에 NaN 값이 두 개 이상 존재하는 행 제거\n",
    "df_filtered = df_filtered.dropna(thresh=df_filtered.shape[1] - 1)\n",
    "print(\"\\n전체 행에 NaN 값이 두 개 이상 존재하는 행 제거 후 DataFrame:\")\n",
    "print(df_filtered)\n"
   ]
  },
  {
   "cell_type": "code",
   "execution_count": null,
   "metadata": {},
   "outputs": [],
   "source": [
    "df = df_filtered"
   ]
  },
  {
   "cell_type": "code",
   "execution_count": null,
   "metadata": {},
   "outputs": [],
   "source": [
    "from sklearn.impute import SimpleImputer, KNNImputer\n",
    "\n",
    "\n",
    "df['고혈압유무'] = df.apply(lambda row: 1 if row['수축기혈압'] >= 140 and row['이완기혈압'] >= 90 else 0, axis=1)\n",
    "# 데이터 정규화"
   ]
  },
  {
   "cell_type": "code",
   "execution_count": null,
   "metadata": {},
   "outputs": [],
   "source": [
    "df = df[df['연령대코드(5세단위)'] >= 4]"
   ]
  },
  {
   "cell_type": "code",
   "execution_count": null,
   "metadata": {},
   "outputs": [],
   "source": [
    "df = df.reset_index(drop=True)"
   ]
  },
  {
   "cell_type": "code",
   "execution_count": null,
   "metadata": {},
   "outputs": [],
   "source": [
    "df"
   ]
  },
  {
   "cell_type": "code",
   "execution_count": null,
   "metadata": {},
   "outputs": [],
   "source": [
    "import pandas as pd\n",
    "\n",
    "file_paths = [\"C:\\\\Users\\\\NMPL-SKKWON\\\\Desktop\\\\국민건강보험공단_의약품처방정보_20221231\\\\3.국민건강보험공단_의약품처방정보_2022_2(수정).CSV\"]\n",
    "\n",
    "# 모든 파일을 읽어서 하나의 DataFrame으로 합치기\n",
    "dfs = [pd.read_csv(file, encoding='cp949') for file in file_paths]\n",
    "df2 = pd.concat(dfs, ignore_index=True)\n",
    "antihypertensive_atc_codes = [\n",
    "    'C02', 'C03', 'C07', 'C08', 'C09'\n",
    "    # 필요한 경우에 따라 더 추가할 수 있습니다.\n",
    "]\n",
    "# file2에서 고혈압 치료제에 해당하는 ATC 코드를 가진 행 필터링\n",
    "antihypertensive_df2 = df2[df2['약품일반성분명코드(ATC코드)'].str.startswith(tuple(antihypertensive_atc_codes))]\n",
    "# file1에서 고혈압 치료제에 해당하는 ATC 코드를 가진 행들의 일련번호 가져오기\n",
    "antihypertensive_serial_numbers = antihypertensive_df2['가입자일련번호'].unique()\n",
    "# file1에서 고혈압 치료제에 해당하는 ATC 코드를 가진 행 제거\n",
    "df = df[~df['가입자일련번호'].isin(antihypertensive_serial_numbers)]\n",
    "\n",
    "# 결과 확인\n",
    "print(df.head())\n",
    "# 일련번호를 기준으로 두 데이터프레임을 병합 (inner join)\n",
    "merged_df = pd.merge(df, df2[['가입자일련번호', '약품일반성분명코드(ATC코드)']], on='가입자일련번호', how='inner')\n",
    "merged_df = merged_df.drop_duplicates(subset=['가입자일련번호'])\n",
    "# 결과 확인\n",
    "print(merged_df.head())\n"
   ]
  },
  {
   "cell_type": "code",
   "execution_count": null,
   "metadata": {},
   "outputs": [],
   "source": [
    "merged_df"
   ]
  },
  {
   "cell_type": "code",
   "execution_count": null,
   "metadata": {},
   "outputs": [],
   "source": [
    "df = merged_df.reset_index(drop=True)"
   ]
  },
  {
   "cell_type": "code",
   "execution_count": null,
   "metadata": {},
   "outputs": [],
   "source": [
    "import numpy as np\n",
    "import pandas as pd\n",
    "from sklearn.model_selection import cross_val_score, StratifiedKFold\n",
    "from sklearn.ensemble import RandomForestClassifier, GradientBoostingClassifier\n",
    "from sklearn.neighbors import KNeighborsClassifier\n",
    "from sklearn.linear_model import LogisticRegression\n",
    "from xgboost import XGBClassifier\n",
    "from sklearn.svm import SVC\n",
    "import pandas as pd\n",
    "import matplotlib.font_manager as fm\n",
    "from imblearn.over_sampling import RandomOverSampler\n",
    "from collections import Counter\n",
    "import seaborn as sns\n",
    "from sklearn.metrics import accuracy_score, f1_score, confusion_matrix"
   ]
  },
  {
   "cell_type": "code",
   "execution_count": null,
   "metadata": {},
   "outputs": [],
   "source": [
    "\n",
    "# X와 y 분리\n",
    "x_columns = ['신장(5cm단위)', '체중(5kg단위)', '혈청지피티(ALT)', '혈청지오티(AST)', '혈청크레아티닌', '연령대코드(5세단위)', \n",
    "             '허리둘레', '식전혈당(공복혈당)', '혈색소', '감마지티피']\n",
    "X = df[x_columns]\n",
    "y = df['고혈압유무']\n",
    "\n",
    "X = pd.concat([X, df[['성별', '흡연상태', '음주여부', '요단백']]], axis=1)\n",
    "\n",
    "imputer = SimpleImputer(strategy='median')\n",
    "X = pd.DataFrame(imputer.fit_transform(X), columns=X.columns)\n",
    "\n",
    "\n",
    "data = pd.concat([X, df[['고혈압유무']]], axis=1)\n",
    "\n",
    "X['성별'] = np.round(X['성별'])\n",
    "X['흡연상태'] = np.round(X['흡연상태'])\n",
    "X['음주여부'] = np.round(X['음주여부'])\n",
    "X['요단백'] = np.round(X['요단백'])\n",
    "X['연령대코드(5세단위)'] = np.round(X['연령대코드(5세단위)'])\n",
    "# 평균값으로 보간 \n",
    "\n",
    "\n",
    "\n",
    "\n"
   ]
  },
  {
   "cell_type": "code",
   "execution_count": null,
   "metadata": {},
   "outputs": [],
   "source": [
    "X"
   ]
  },
  {
   "cell_type": "code",
   "execution_count": null,
   "metadata": {},
   "outputs": [],
   "source": [
    "scaler = StandardScaler()\n",
    "X_scaled = scaler.fit_transform(X)\n",
    "# 2. 클래스 불균형 확인\n",
    "target_column = '고혈압유무'  # 타겟 컬럼의 이름을 지정해주세요.\n",
    "print(f'원본 데이터 클래스 분포: {Counter(data[target_column])}')\n",
    "\n",
    "# 3. Random Over-Sampling 적용\n",
    "ros = RandomOverSampler(random_state=42)\n",
    "X = data.drop(columns=[target_column])\n",
    "y = data[target_column]\n",
    "X_resampled, y_resampled = ros.fit_resample(X, y)\n",
    "\n",
    "# 4. 결과 확인\n",
    "print(f'오버 샘플링 후 클래스 분포: {Counter(y_resampled)}')\n",
    "\n",
    "# Resampled 데이터프레임 생성\n",
    "resampled_data = pd.DataFrame(X_resampled, columns=X.columns)\n",
    "resampled_data[target_column] = y_resampled"
   ]
  },
  {
   "cell_type": "code",
   "execution_count": null,
   "metadata": {},
   "outputs": [],
   "source": [
    "X_resampled"
   ]
  },
  {
   "cell_type": "code",
   "execution_count": null,
   "metadata": {},
   "outputs": [],
   "source": [
    "scaler = StandardScaler()\n",
    "X_resampled = scaler.fit_transform(X_resampled)\n",
    "# 3. Stratified 5-Fold 교차 검증 설정\n",
    "skf = StratifiedKFold(n_splits=5, shuffle=True, random_state=42)\n",
    "\n",
    "# 4. 분류기 설정\n",
    "classifiers = {\n",
    "    'RandomForest': RandomForestClassifier(n_estimators = 5, random_state=42),\n",
    "    'XGBoost': XGBClassifier(random_state=42, use_label_encoder=False, eval_metric='logloss'),\n",
    "    'LogisticRegression': LogisticRegression(max_iter=1000)\n",
    "}\n",
    "\n",
    "# 5. 각 분류기에 대해 하드 보팅을 위한 예측 초기화 및 교차 검증 수행\n",
    "results = []\n",
    "feature_importances = {}\n",
    "for name, clf in classifiers.items():\n",
    "    y_preds = np.zeros(len(y_resampled))\n",
    "    \n",
    "    for fold, (train_index, test_index) in enumerate(skf.split(X_resampled, y_resampled)):\n",
    "        print(f'{name} - Fold {fold + 1}')\n",
    "        X_train, X_test = X_resampled[train_index], X_resampled[test_index]\n",
    "        y_train, y_test = y_resampled[train_index], y_resampled[test_index]\n",
    "        clf.fit(X_train, y_train)\n",
    "        y_pred = clf.predict(X_test)\n",
    "        y_preds[test_index] = y_pred\n",
    "        print(f'Fold {fold + 1} predictions: {y_pred[:10]}')  # 첫 10개 예측 출력\n",
    "    \n",
    "    # 최종 성능 평가\n",
    "    accuracy = accuracy_score(y_resampled, y_preds)\n",
    "    f1 = f1_score(y_resampled, y_preds)\n",
    "    cm = confusion_matrix(y_resampled, y_preds)\n",
    "    \n",
    "    results.append({\n",
    "        'Model': name,\n",
    "        'Accuracy': accuracy,\n",
    "        'F1 Score': f1\n",
    "    })\n",
    "    \n",
    "    # Feature importance 계산\n",
    "    if name == 'RandomForest':\n",
    "        importances = clf.feature_importances_\n",
    "    elif name == 'XGBoost':\n",
    "        importances = clf.feature_importances_\n",
    "    elif name == 'LogisticRegression':\n",
    "        importances = np.abs(clf.coef_[0])\n",
    "    \n",
    "    feature_importances[name] = importances\n",
    "\n",
    "# 6. 결과 출력\n",
    "results_df = pd.DataFrame(results)\n",
    "print(\"Model Performance:\")\n",
    "print(results_df)\n",
    "\n",
    "# Feature importance 출력 및 시각화\n",
    "feature_names = X.columns\n",
    "for name, importances in feature_importances.items():\n",
    "    feature_importance_df = pd.DataFrame({\n",
    "        'Feature': feature_names,\n",
    "        'Importance': importances\n",
    "    }).sort_values(by='Importance', ascending=False)\n",
    "    print(f\"\\n{name} Feature Importances:\")\n",
    "    print(feature_importance_df)\n",
    "    \n",
    "    # 그래프 출력\n",
    "    plt.figure(figsize=(10, 6))\n",
    "    plt.bar(feature_importance_df['Feature'], feature_importance_df['Importance'])\n",
    "    plt.title(f'{name} Feature Importances')\n",
    "    plt.xlabel('Feature')\n",
    "    plt.ylabel('Importance')\n",
    "    plt.xticks(rotation=90)\n",
    "    plt.tight_layout()\n",
    "    plt.show()\n",
    "    print()"
   ]
  },
  {
   "cell_type": "code",
   "execution_count": null,
   "metadata": {},
   "outputs": [],
   "source": [
    "result"
   ]
  },
  {
   "cell_type": "code",
   "execution_count": null,
   "metadata": {},
   "outputs": [],
   "source": [
    "y_soft_vote"
   ]
  },
  {
   "cell_type": "code",
   "execution_count": null,
   "metadata": {},
   "outputs": [],
   "source": [
    "def golden_test(data, feature, column, save, y):\n",
    "    classifiers = {\n",
    "        \"Random Forest\": RandomForestClassifier(n_estimators=5, random_state=42)\n",
    "    }\n",
    "    kf = StratifiedKFold(n_splits=5, shuffle=True, random_state=42)\n",
    "    results = {}\n",
    "    if(len(save) > 0):\n",
    "        feature = pd.concat([feature, save], axis=1) \n",
    "    feature = pd.concat([feature, data[column]], axis=1) \n",
    "    print(feature)\n",
    "    scaler = StandardScaler()\n",
    "    feature = scaler.fit_transform(feature)\n",
    "    # 3. Stratified 5-Fold 교차 검증 설정\n",
    "    skf = StratifiedKFold(n_splits=5, shuffle=True, random_state=42)\n",
    "\n",
    "    # 4. RandomForest 분류기 설정\n",
    "    clf = RandomForestClassifier(n_estimators= 5,random_state=42)\n",
    "\n",
    "    # 5. 하드 보팅을 위한 예측 초기화\n",
    "    y_preds = np.zeros(len(y))\n",
    "\n",
    "    # 6. 5-Fold 교차 검증 수행\n",
    "    for fold, (train_index, test_index) in enumerate(skf.split(feature, y)):\n",
    "        print(f'Fold {fold + 1}')\n",
    "        X_train, X_test = feature[train_index], feature[test_index]\n",
    "        y_train, y_test = y[train_index], y[test_index]\n",
    "        clf.fit(X_train, y_train)\n",
    "        y_pred = clf.predict(X_test)\n",
    "        y_preds[test_index] = y_pred\n",
    "        print(f'Fold {fold + 1} predictions: {y_pred[:10]}')  # 첫 10개 예측 출력\n",
    "\n",
    "    # 7. 최종 성능 평가\n",
    "    accuracy = accuracy_score(y, y_preds)\n",
    "    f1 = f1_score(y, y_preds)\n",
    "    cm = confusion_matrix(y, y_preds)\n",
    "\n",
    "    print(\"Confusion Matrix:\")\n",
    "    print(cm)\n",
    "    print(f\"Accuracy: {accuracy:.4f}\")\n",
    "    print(f\"F1 Score: {f1:.4f}\")\n",
    "    return accuracy\n",
    "column = []\n",
    "column = X.columns\n",
    "l = len(column)\n",
    "t_column = pd.DataFrame()\n",
    "b_column = pd.DataFrame()\n",
    "b_rmse = -1\n",
    "temp = 0\n",
    "b_feat = ''\n",
    "for i in range(0, l):\n",
    "    for r in range (0, (l - i)):\n",
    "        temp = golden_test(X_resampled, t_column, column[r], b_column, y_resampled)\n",
    "        if(temp > b_rmse):\n",
    "            b_rmse = temp\n",
    "            b_feat = column[r]\n",
    "        t_column = pd.DataFrame()\n",
    "    b_rmse = -1\n",
    "    column  = list(filter(lambda col: col != b_feat, column))\n",
    "    print(column)\n",
    "    b_column = pd.concat([b_column, X_resampled[b_feat]], axis=1)  \n",
    "print(b_column)\n"
   ]
  },
  {
   "cell_type": "code",
   "execution_count": null,
   "metadata": {},
   "outputs": [],
   "source": [
    "b_column"
   ]
  },
  {
   "cell_type": "code",
   "execution_count": null,
   "metadata": {},
   "outputs": [],
   "source": [
    "results_df\n"
   ]
  }
 ],
 "metadata": {
  "kernelspec": {
   "display_name": "Python 3",
   "language": "python",
   "name": "python3"
  },
  "language_info": {
   "codemirror_mode": {
    "name": "ipython",
    "version": 3
   },
   "file_extension": ".py",
   "mimetype": "text/x-python",
   "name": "python",
   "nbconvert_exporter": "python",
   "pygments_lexer": "ipython3",
   "version": "3.10.4"
  }
 },
 "nbformat": 4,
 "nbformat_minor": 2
}
